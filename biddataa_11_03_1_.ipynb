{
  "nbformat": 4,
  "nbformat_minor": 0,
  "metadata": {
    "colab": {
      "provenance": []
    },
    "kernelspec": {
      "name": "python3",
      "display_name": "Python 3"
    },
    "language_info": {
      "name": "python"
    }
  },
  "cells": [
    {
      "cell_type": "code",
      "execution_count": null,
      "metadata": {
        "colab": {
          "base_uri": "https://localhost:8080/"
        },
        "id": "ZwEM0fWxqHXu",
        "outputId": "b3fef8c1-4a6e-433b-8093-821b8136f71e"
      },
      "outputs": [
        {
          "output_type": "stream",
          "name": "stdout",
          "text": [
            "True\n",
            "False\n",
            "True\n",
            "False\n"
          ]
        }
      ],
      "source": [
        "from collections.abc import Sequence\n",
        "\n",
        "def check_fibonacci(data: Sequence[int]) -> bool:\n",
        "    if len(data) < 2:\n",
        "        return False\n",
        "\n",
        "\n",
        "    a, b = 0, 1\n",
        "    fib_set = {a, b}\n",
        "\n",
        "    while b <= max(data):\n",
        "        a, b = b, a + b\n",
        "        fib_set.add(b)\n",
        "\n",
        "    return all(num in fib_set for num in data)\n",
        "\n",
        "# тест\n",
        "print(check_fibonacci([0, 1, 1, 2, 3, 5, 8]))\n",
        "print(check_fibonacci([2, 4, 6, 10]))\n",
        "print(check_fibonacci([13, 21, 34]))\n",
        "print(check_fibonacci([1, 2, 3, 4, 5]))\n"
      ]
    }
  ]
}