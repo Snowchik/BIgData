{
  "nbformat": 4,
  "nbformat_minor": 0,
  "metadata": {
    "colab": {
      "provenance": []
    },
    "kernelspec": {
      "name": "python3",
      "display_name": "Python 3"
    },
    "language_info": {
      "name": "python"
    }
  },
  "cells": [
    {
      "cell_type": "code",
      "execution_count": 5,
      "metadata": {
        "colab": {
          "base_uri": "https://localhost:8080/"
        },
        "id": "w0KQRfJOlzxb",
        "outputId": "4c7d1d15-1130-42bd-acd5-99d038aa4f1a"
      },
      "outputs": [
        {
          "output_type": "stream",
          "name": "stdout",
          "text": [
            "{HomeworkResult(author=Lev Sokolov, homework='Learn OOP', solution='I have done this hw')}\n"
          ]
        }
      ],
      "source": [
        "import datetime\n",
        "from collections import defaultdict\n",
        "\n",
        "\n",
        "class DeadlineError(Exception):\n",
        "    pass\n",
        "\n",
        "\n",
        "class Person:\n",
        "    def __init__(self, first_name: str, last_name: str):\n",
        "        self.first_name = first_name\n",
        "        self.last_name = last_name\n",
        "\n",
        "\n",
        "class Homework:\n",
        "    def __init__(self, text: str, days: int):\n",
        "        self.text = text\n",
        "        self.deadline = datetime.timedelta(days=days)\n",
        "        self.created = datetime.datetime.now()\n",
        "\n",
        "    def is_active(self) -> bool:\n",
        "        return datetime.datetime.now() - self.created < self.deadline\n",
        "\n",
        "\n",
        "class HomeworkResult:\n",
        "    def __init__(self, author: 'Student', homework: Homework, solution: str):\n",
        "        if not isinstance(homework, Homework):\n",
        "            raise TypeError('You gave a not Homework object')\n",
        "        self.author = author\n",
        "        self.homework = homework\n",
        "        self.solution = solution\n",
        "        self.created = datetime.datetime.now()\n",
        "\n",
        "    def __repr__(self):\n",
        "        return f\"HomeworkResult(author={self.author.first_name} {self.author.last_name}, homework='{self.homework.text}', solution='{self.solution}')\"\n",
        "\n",
        "\n",
        "class Student(Person):\n",
        "    def do_homework(self, homework: Homework, solution: str) -> HomeworkResult:\n",
        "        if not homework.is_active():\n",
        "            raise DeadlineError('You are late')\n",
        "        return HomeworkResult(self, homework, solution)\n",
        "\n",
        "\n",
        "class Teacher(Person):\n",
        "    homework_done = defaultdict(set)\n",
        "\n",
        "    @staticmethod\n",
        "    def create_homework(text: str, days: int) -> Homework:\n",
        "        return Homework(text, days)\n",
        "\n",
        "    @classmethod\n",
        "    def check_homework(cls, homework_result: HomeworkResult) -> bool:\n",
        "        if len(homework_result.solution) > 5:\n",
        "            cls.homework_done[homework_result.homework].add(homework_result)\n",
        "            return True\n",
        "        return False\n",
        "\n",
        "    @classmethod\n",
        "    def reset_results(cls, homework: Homework = None):\n",
        "        if homework:\n",
        "            cls.homework_done.pop(homework, None)\n",
        "        else:\n",
        "            cls.homework_done.clear()\n",
        "\n",
        "\n",
        "if __name__ == '__main__':\n",
        "    opp_teacher = Teacher('Daniil', 'Shadrin')\n",
        "    advanced_python_teacher = Teacher('Aleksandr', 'Smetanin')\n",
        "\n",
        "    lazy_student = Student('Roman', 'Petrov')\n",
        "    good_student = Student('Lev', 'Sokolov')\n",
        "\n",
        "    oop_hw = opp_teacher.create_homework('Learn OOP', 1)\n",
        "    docs_hw = opp_teacher.create_homework('Read docs', 5)\n",
        "\n",
        "    result_1 = good_student.do_homework(oop_hw, 'I have done this hw')\n",
        "    result_2 = good_student.do_homework(docs_hw, 'I have done this hw too')\n",
        "    result_3 = lazy_student.do_homework(docs_hw, 'done')\n",
        "\n",
        "    try:\n",
        "        result_4 = HomeworkResult(good_student, oop_hw, \"Solution\")\n",
        "    except Exception:\n",
        "        print('There was an exception here')\n",
        "\n",
        "    opp_teacher.check_homework(result_1)\n",
        "    temp_1 = opp_teacher.homework_done\n",
        "\n",
        "    advanced_python_teacher.check_homework(result_1)\n",
        "    temp_2 = Teacher.homework_done\n",
        "    assert temp_1 == temp_2\n",
        "\n",
        "    opp_teacher.check_homework(result_2)\n",
        "    opp_teacher.check_homework(result_3)\n",
        "\n",
        "    print(Teacher.homework_done[oop_hw])\n",
        "    Teacher.reset_results()\n"
      ]
    }
  ]
}