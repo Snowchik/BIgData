{
  "nbformat": 4,
  "nbformat_minor": 0,
  "metadata": {
    "colab": {
      "provenance": []
    },
    "kernelspec": {
      "name": "python3",
      "display_name": "Python 3"
    },
    "language_info": {
      "name": "python"
    }
  },
  "cells": [
    {
      "cell_type": "code",
      "execution_count": 2,
      "metadata": {
        "colab": {
          "base_uri": "https://localhost:8080/"
        },
        "id": "e41VMcmDnT8f",
        "outputId": "26e4aebf-06b6-4162-87e7-2df8b047db2d"
      },
      "outputs": [
        {
          "output_type": "stream",
          "name": "stdout",
          "text": [
            "unfinished!\n",
            "x wins!\n",
            "draw!\n"
          ]
        }
      ],
      "source": [
        "from typing import List\n",
        "\n",
        "def tic_tac_toe_checker(board: List[List[str]]) -> str:\n",
        "    # строки и столбцы\n",
        "    for i in range(3):\n",
        "        if board[i][0] == board[i][1] == board[i][2] and board[i][0] != \"-\":\n",
        "            return f\"{board[i][0]} wins!\"  # вин по строке\n",
        "        if board[0][i] == board[1][i] == board[2][i] and board[0][i] != \"-\":\n",
        "            return f\"{board[0][i]} wins!\"  # вин по столбцу\n",
        "\n",
        "    # диагонали\n",
        "    if board[0][0] == board[1][1] == board[2][2] and board[0][0] != \"-\":\n",
        "        return f\"{board[0][0]} wins!\"\n",
        "    if board[0][2] == board[1][1] == board[2][0] and board[0][2] != \"-\":\n",
        "        return f\"{board[0][2]} wins!\"\n",
        "\n",
        "    # пустые клетки\n",
        "    if any(\"-\" in row for row in board):\n",
        "        return \"unfinished!\"\n",
        "\n",
        "    return \"draw!\"  # нет победителя и доска заполнена = ничья\n",
        "\n",
        "# Примеры вызова функции\n",
        "if __name__ == \"__main__\":\n",
        "    board1 = [[\"-\", \"-\", \"o\"],\n",
        "              [\"-\", \"x\", \"o\"],\n",
        "              [\"x\", \"o\", \"x\"]]\n",
        "    print(tic_tac_toe_checker(board1))  # пуустые\n",
        "\n",
        "    board2 = [[\"-\", \"-\", \"o\"],\n",
        "              [\"-\", \"o\", \"o\"],\n",
        "              [\"x\", \"x\", \"x\"]]\n",
        "    print(tic_tac_toe_checker(board2))  # вин\n",
        "\n",
        "    board3 = [[\"o\", \"x\", \"o\"],\n",
        "              [\"x\", \"o\", \"x\"],\n",
        "              [\"x\", \"o\", \"x\"]]\n",
        "    print(tic_tac_toe_checker(board3))  # ничья\n"
      ]
    }
  ]
}