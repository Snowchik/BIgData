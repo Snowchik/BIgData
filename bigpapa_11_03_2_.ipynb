{
  "nbformat": 4,
  "nbformat_minor": 0,
  "metadata": {
    "colab": {
      "provenance": []
    },
    "kernelspec": {
      "name": "python3",
      "display_name": "Python 3"
    },
    "language_info": {
      "name": "python"
    }
  },
  "cells": [
    {
      "cell_type": "code",
      "execution_count": null,
      "metadata": {
        "colab": {
          "base_uri": "https://localhost:8080/"
        },
        "id": "CaokWNrWqwxQ",
        "outputId": "6931c32e-ef30-4e9b-a55c-98a2acc3a892"
      },
      "outputs": [
        {
          "output_type": "stream",
          "name": "stdout",
          "text": [
            "16\n",
            "-1\n",
            "4\n"
          ]
        }
      ],
      "source": [
        "from typing import List\n",
        "\n",
        "def find_maximal_subarray_sum(nums: List[int], k: int) -> int:\n",
        "    max_sum = float('-inf')  # Начальное значение — минус бесконечность\n",
        "\n",
        "    for i in range(len(nums)):\n",
        "        current_sum = 0\n",
        "        for j in range(i, min(i + k, len(nums))):\n",
        "            current_sum += nums[j]\n",
        "            max_sum = max(max_sum, current_sum)  # Обновляем максимум\n",
        "\n",
        "    return max_sum\n",
        "\n",
        "# Тест\n",
        "nums = [1, 3, -1, -3, 5, 3, 6, 7]\n",
        "k = 3\n",
        "print(find_maximal_subarray_sum(nums, k))  # 16\n",
        "\n",
        "print(find_maximal_subarray_sum([-2, -3, -1, -5], 2))  # -1 (лучший подмассив: [-1])\n",
        "print(find_maximal_subarray_sum([4, -1, 2, 1], 2))  # 5 (лучший подмассив: [4, 1])\n"
      ]
    }
  ]
}