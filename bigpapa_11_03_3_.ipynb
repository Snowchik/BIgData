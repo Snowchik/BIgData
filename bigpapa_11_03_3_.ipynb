{
  "nbformat": 4,
  "nbformat_minor": 0,
  "metadata": {
    "colab": {
      "provenance": []
    },
    "kernelspec": {
      "name": "python3",
      "display_name": "Python 3"
    },
    "language_info": {
      "name": "python"
    }
  },
  "cells": [
    {
      "cell_type": "code",
      "execution_count": null,
      "metadata": {
        "colab": {
          "base_uri": "https://localhost:8080/"
        },
        "id": "-26mBSeMtbJG",
        "outputId": "f8b730fa-40cc-402b-c543-4892d8e7c58d"
      },
      "outputs": [
        {
          "output_type": "stream",
          "name": "stdout",
          "text": [
            "10 самых длинных слов с уникальными символами:\n",
            "['Bev\\\\u00f6lkerungsabschub', 'unmi\\\\u00dfverst\\\\u00e4ndliche', 'Werkst\\\\u00e4ttenlandschaft', 'Selbstverst\\\\u00e4ndlich', 'r\\\\u00e9sistance-Bewegungen', 'Millionenbev\\\\u00f6lkerung', 'Gemeinpl\\\\u00e4tze.\\\\u00ab', 'u00fcberw\\\\u00e4ltigende', 'u00fcberw\\\\u00e4ltigend', 'Machtbewu\\\\u00dftsein']\n",
            "\n",
            "Самый редкий символ в документе:\n",
            "Y\n",
            "\n",
            "Количество знаков пунктуации:\n",
            "8277\n",
            "\n",
            "Количество не-ASCII символов:\n",
            "0\n",
            "\n",
            "Самый частый не-ASCII символ:\n",
            "\n"
          ]
        }
      ],
      "source": [
        "import string\n",
        "from collections import Counter\n",
        "from typing import List\n",
        "\n",
        "def get_longest_diverse_words(file_path: str) -> List[str]:\n",
        "    \"\"\"\n",
        "    1) Найти 10 самых длинных слов, состоящих из наибольшего количества уникальных символов.\n",
        "    \"\"\"\n",
        "    words = set()\n",
        "    with open(file_path, encoding=\"utf-8\") as file:\n",
        "        for line in file:\n",
        "            for word in line.split():\n",
        "                words.add(word.strip(string.punctuation))\n",
        "\n",
        "    words = sorted(words, key=lambda w: (-len(set(w)), -len(w)))  # Уникальные символы, затем длина\n",
        "    return words[:10]\n",
        "\n",
        "def get_rarest_char(file_path: str) -> str:\n",
        "    \"\"\"\n",
        "    2) Найти самый редкий символ в документе.\n",
        "    \"\"\"\n",
        "    with open(file_path, encoding=\"utf-8\") as file:\n",
        "        text = file.read()\n",
        "\n",
        "    counter = Counter(text)\n",
        "    return min(counter, key=counter.get)\n",
        "\n",
        "def count_punctuation_chars(file_path: str) -> int:\n",
        "    \"\"\"\n",
        "    3) Подсчитать количество знаков пунктуации в тексте.\n",
        "    \"\"\"\n",
        "    with open(file_path, encoding=\"utf-8\") as file:\n",
        "        text = file.read()\n",
        "\n",
        "    return sum(1 for char in text if char in string.punctuation)\n",
        "\n",
        "def count_non_ascii_chars(file_path: str) -> int:\n",
        "    \"\"\"\n",
        "    4) Подсчитать количество не-ASCII символов.\n",
        "    \"\"\"\n",
        "    with open(file_path, encoding=\"utf-8\") as file:\n",
        "        text = file.read()\n",
        "\n",
        "    return sum(1 for char in text if ord(char) > 127)\n",
        "\n",
        "def get_most_common_non_ascii_char(file_path: str) -> str:\n",
        "    \"\"\"\n",
        "    5) Найти самый часто встречающийся не-ASCII символ.\n",
        "    \"\"\"\n",
        "    with open(file_path, encoding=\"utf-8\") as file:\n",
        "        text = file.read()\n",
        "\n",
        "    non_ascii_chars = [char for char in text if ord(char) > 127]\n",
        "    counter = Counter(non_ascii_chars)\n",
        "\n",
        "    return max(counter, key=counter.get) if counter else \"\"\n",
        "\n",
        "# Тест\n",
        "file_path = \"/content/data.txt\"\n",
        "\n",
        "print(\"10 самых длинных слов с уникальными символами:\")\n",
        "print(get_longest_diverse_words(file_path))\n",
        "\n",
        "print(\"\\nСамый редкий символ в документе:\")\n",
        "print(get_rarest_char(file_path))\n",
        "\n",
        "print(\"\\nКоличество знаков пунктуации:\")\n",
        "print(count_punctuation_chars(file_path))\n",
        "\n",
        "print(\"\\nКоличество не-ASCII символов:\")\n",
        "print(count_non_ascii_chars(file_path))\n",
        "\n",
        "print(\"\\nСамый частый не-ASCII символ:\")\n",
        "print(get_most_common_non_ascii_char(file_path))\n"
      ]
    }
  ]
}