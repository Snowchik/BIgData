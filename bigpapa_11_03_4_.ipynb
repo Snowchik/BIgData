{
  "nbformat": 4,
  "nbformat_minor": 0,
  "metadata": {
    "colab": {
      "provenance": []
    },
    "kernelspec": {
      "name": "python3",
      "display_name": "Python 3"
    },
    "language_info": {
      "name": "python"
    }
  },
  "cells": [
    {
      "cell_type": "code",
      "execution_count": 6,
      "metadata": {
        "id": "fN8PXBlIt0Ga",
        "colab": {
          "base_uri": "https://localhost:8080/"
        },
        "outputId": "b45fc4c5-714b-4354-ff5c-d909b49ea8bc"
      },
      "outputs": [
        {
          "output_type": "stream",
          "name": "stdout",
          "text": [
            "Данные о президенте Yeltsin: ('Yeltsin', 999, 'Russia')\n",
            "Список всех книг: [('Farenheit 451', 'Bradbury'), ('Brave New World', 'Huxley'), ('1984', 'Orwell')]\n"
          ]
        }
      ],
      "source": [
        "import sqlite3\n",
        "from typing import List, Tuple\n",
        "\n",
        "db_path = \"/content/example.sqlite\"\n",
        "\n",
        "def get_president_by_name(name: str) -> Tuple:\n",
        "    conn = sqlite3.connect(db_path)\n",
        "    cursor = conn.cursor()\n",
        "    cursor.execute(\"SELECT * FROM presidents WHERE name = ?\", (name,))\n",
        "    result = cursor.fetchone()\n",
        "    conn.close()\n",
        "    return result\n",
        "\n",
        "def add_president(name: str, age: int, country: str):\n",
        "    conn = sqlite3.connect(db_path)\n",
        "    cursor = conn.cursor()\n",
        "    cursor.execute(\"INSERT INTO presidents (name, age, country) VALUES (?, ?, ?)\", (name, age, country))\n",
        "    conn.commit()\n",
        "    conn.close()\n",
        "\n",
        "def update_president_age(name: str, new_age: int):\n",
        "    conn = sqlite3.connect(db_path)\n",
        "    cursor = conn.cursor()\n",
        "    cursor.execute(\"UPDATE presidents SET age = ? WHERE name = ?\", (new_age, name))\n",
        "    conn.commit()\n",
        "    conn.close()\n",
        "\n",
        "def delete_president(name: str):\n",
        "    conn = sqlite3.connect(db_path)\n",
        "    cursor = conn.cursor()\n",
        "    cursor.execute(\"DELETE FROM presidents WHERE name = ?\", (name,))\n",
        "    conn.commit()\n",
        "    conn.close()\n",
        "\n",
        "def get_all_books() -> List[Tuple]:\n",
        "    conn = sqlite3.connect(db_path)\n",
        "    cursor = conn.cursor()\n",
        "    cursor.execute(\"SELECT * FROM books\")\n",
        "    result = cursor.fetchall()\n",
        "    conn.close()\n",
        "    return result\n",
        "\n",
        "def add_book(name: str, author: str):\n",
        "    conn = sqlite3.connect(db_path)\n",
        "    cursor = conn.cursor()\n",
        "    cursor.execute(\"INSERT INTO books (name, author) VALUES (?, ?)\", (name, author))\n",
        "    conn.commit()\n",
        "    conn.close()\n",
        "\n",
        "if __name__ == \"__main__\":\n",
        "    print(\"Данные о президенте Yeltsin:\", get_president_by_name(\"Yeltsin\"))\n",
        "    add_president(\"Putin\", 70, \"Russia\")\n",
        "    update_president_age(\"Putin\", 71)\n",
        "    delete_president(\"Yeltsin\")\n",
        "    print(\"Список всех книг:\", get_all_books())\n",
        "    add_book(\"The Art of War\", \"Sun Tzu\")\n"
      ]
    }
  ]
}